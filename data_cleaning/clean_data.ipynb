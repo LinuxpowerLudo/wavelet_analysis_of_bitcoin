{
 "cells": [
  {
   "cell_type": "markdown",
   "metadata": {},
   "source": [
    "## This script reformats datasets so that they're stored in the required format, for the minute part of that format is them being stored as returns"
   ]
  },
  {
   "cell_type": "code",
   "execution_count": 49,
   "metadata": {},
   "outputs": [],
   "source": [
    "%matplotlib inline\n",
    "import numpy as np\n",
    "import pandas as pd\n",
    "\n",
    "import matplotlib.pyplot as plt\n",
    "import matplotlib\n",
    "matplotlib.rcParams['figure.figsize'] = (16, 3)\n",
    "\n"
   ]
  },
  {
   "cell_type": "markdown",
   "metadata": {},
   "source": [
    "# BITCOIN\n"
   ]
  },
  {
   "cell_type": "code",
   "execution_count": 2,
   "metadata": {},
   "outputs": [],
   "source": [
    "bc =pd.read_csv(\"../datasets/bitcoin.csv\").drop(\"Date\", axis=1).dropna()\n"
   ]
  },
  {
   "cell_type": "code",
   "execution_count": 3,
   "metadata": {},
   "outputs": [],
   "source": [
    "bc['returns'] = np.log(bc[\"Close Price\"]/bc[\"Close Price\"].shift())"
   ]
  },
  {
   "cell_type": "code",
   "execution_count": 4,
   "metadata": {},
   "outputs": [],
   "source": [
    "bc.drop(\"Close Price\", axis=1, inplace=True)"
   ]
  },
  {
   "cell_type": "code",
   "execution_count": 5,
   "metadata": {},
   "outputs": [],
   "source": [
    "bc = bc.dropna()"
   ]
  },
  {
   "cell_type": "code",
   "execution_count": 6,
   "metadata": {},
   "outputs": [],
   "source": [
    "bc = bc.append(other={\"returns\": 0}, ignore_index=True)\n",
    "bc = bc.append(other={\"returns\": 0}, ignore_index=True)\n",
    "bc = bc.append(other={\"returns\": 0}, ignore_index=True)"
   ]
  },
  {
   "cell_type": "code",
   "execution_count": 7,
   "metadata": {},
   "outputs": [
    {
     "data": {
      "text/html": [
       "<div>\n",
       "<style scoped>\n",
       "    .dataframe tbody tr th:only-of-type {\n",
       "        vertical-align: middle;\n",
       "    }\n",
       "\n",
       "    .dataframe tbody tr th {\n",
       "        vertical-align: top;\n",
       "    }\n",
       "\n",
       "    .dataframe thead th {\n",
       "        text-align: right;\n",
       "    }\n",
       "</style>\n",
       "<table border=\"1\" class=\"dataframe\">\n",
       "  <thead>\n",
       "    <tr style=\"text-align: right;\">\n",
       "      <th></th>\n",
       "      <th>returns</th>\n",
       "    </tr>\n",
       "  </thead>\n",
       "  <tbody>\n",
       "    <tr>\n",
       "      <th>0</th>\n",
       "      <td>0.040619</td>\n",
       "    </tr>\n",
       "    <tr>\n",
       "      <th>1</th>\n",
       "      <td>0.018526</td>\n",
       "    </tr>\n",
       "    <tr>\n",
       "      <th>2</th>\n",
       "      <td>0.031009</td>\n",
       "    </tr>\n",
       "    <tr>\n",
       "      <th>3</th>\n",
       "      <td>-0.000616</td>\n",
       "    </tr>\n",
       "    <tr>\n",
       "      <th>4</th>\n",
       "      <td>-0.059183</td>\n",
       "    </tr>\n",
       "  </tbody>\n",
       "</table>\n",
       "</div>"
      ],
      "text/plain": [
       "    returns\n",
       "0  0.040619\n",
       "1  0.018526\n",
       "2  0.031009\n",
       "3 -0.000616\n",
       "4 -0.059183"
      ]
     },
     "execution_count": 7,
     "metadata": {},
     "output_type": "execute_result"
    }
   ],
   "source": [
    "bc.head()"
   ]
  },
  {
   "cell_type": "code",
   "execution_count": 8,
   "metadata": {},
   "outputs": [],
   "source": [
    "bc.to_csv(\"../datasets/bc_returns.csv\")"
   ]
  },
  {
   "cell_type": "markdown",
   "metadata": {},
   "source": [
    "# IBM"
   ]
  },
  {
   "cell_type": "code",
   "execution_count": 9,
   "metadata": {},
   "outputs": [],
   "source": [
    "ibm_prices = pd.read_csv(\"../datasets/ibm-prices.csv\", header=0)#, dtype={\"price\": float})\n",
    "ibm_prices.rename(inplace=True,columns=\n",
    "                  {ibm_prices.columns[0]: \"date\",\n",
    "                 ibm_prices.columns[1]: \"ibm_prices\"})\n",
    "ibm_prices = ibm_prices.iloc[:-1]\n",
    "ibm_prices.date = pd.to_datetime(ibm_prices.date)\n",
    "ibm_prices.ibm_prices = ibm_prices.ibm_prices.astype(float)\n",
    "ibm_prices.set_index(inplace=True, keys=\"date\")\n"
   ]
  },
  {
   "cell_type": "code",
   "execution_count": 10,
   "metadata": {},
   "outputs": [],
   "source": [
    "log_returns = np.log(ibm_prices.ibm_prices / ibm_prices.ibm_prices.shift())"
   ]
  },
  {
   "cell_type": "code",
   "execution_count": 11,
   "metadata": {},
   "outputs": [],
   "source": [
    "abs_log_returns = np.abs(np.log(ibm_prices.ibm_prices / ibm_prices.ibm_prices.shift()))\n",
    "abs_log_returns = abs_log_returns.dropna()"
   ]
  },
  {
   "cell_type": "code",
   "execution_count": 12,
   "metadata": {},
   "outputs": [],
   "source": [
    "log_returns.dropna().reset_index(drop=True).to_csv(\"../datasets/ibm_returns.csv\")"
   ]
  },
  {
   "cell_type": "markdown",
   "metadata": {},
   "source": [
    "# BITCOIN HIGH FREQUENCY"
   ]
  },
  {
   "cell_type": "code",
   "execution_count": 13,
   "metadata": {},
   "outputs": [],
   "source": [
    "bitcoin = pd.read_csv(\"../datasets/hf_bitcoin.csv\")\n",
    "bitcoin = bitcoin.dropna()\n",
    "bitcoin.Timestamp = bitcoin.Timestamp.astype(pd.Timestamp)"
   ]
  },
  {
   "cell_type": "code",
   "execution_count": 14,
   "metadata": {},
   "outputs": [],
   "source": [
    "bitcoin['date'] = pd.to_datetime(bitcoin.Timestamp,unit='s')"
   ]
  },
  {
   "cell_type": "code",
   "execution_count": 15,
   "metadata": {},
   "outputs": [],
   "source": [
    "sampling_rate = \"5min\""
   ]
  },
  {
   "cell_type": "code",
   "execution_count": 16,
   "metadata": {},
   "outputs": [],
   "source": [
    "resampled_series = bitcoin.set_index(\"date\").Close.resample(sampling_rate).mean().interpolate()"
   ]
  },
  {
   "cell_type": "code",
   "execution_count": 17,
   "metadata": {},
   "outputs": [],
   "source": [
    "log_returns = np.log(resampled_series/resampled_series.shift()).dropna()\n"
   ]
  },
  {
   "cell_type": "code",
   "execution_count": 18,
   "metadata": {
    "scrolled": true
   },
   "outputs": [],
   "source": [
    "log_returns.reset_index(drop=True).to_csv(\"../datasets/hfbc_returns_\" + sampling_rate + \".csv\")"
   ]
  },
  {
   "cell_type": "markdown",
   "metadata": {},
   "source": [
    "## Sampling rate codes\n",
    "\n",
    "- B\tbusiness day frequency\n",
    "- C\tcustom business day frequency\n",
    "- D\tcalendar day frequency\n",
    "- W\tweekly frequency\n",
    "- M\tmonth end frequency\n",
    "- SM\tsemi-month end frequency (15th and end of month)\n",
    "- BM\tbusiness month end frequency\n",
    "- CBM\tcustom business month end frequency\n",
    "- MS\tmonth start frequency\n",
    "- SMS\tsemi-month start frequency (1st and 15th)\n",
    "- BMS\tbusiness month start frequency\n",
    "- CBMS\tcustom business month start frequency\n",
    "- Q\tquarter end frequency\n",
    "- BQ\tbusiness quarter end frequency\n",
    "- QS\tquarter start frequency\n",
    "- BQS\tbusiness quarter start frequency\n",
    "- A, Y\tyear end frequency\n",
    "- BA, BY\tbusiness year end frequency\n",
    "- AS, YS\tyear start frequency\n",
    "- BAS, BYS\tbusiness year start frequency\n",
    "- BH\tbusiness hour frequency\n",
    "- H\thourly frequency\n",
    "- T, min\tminutely frequency\n",
    "- S\tsecondly frequency\n",
    "- L, ms\tmilliseconds\n",
    "- U, us\tmicroseconds\n",
    "- N\tnanoseconds"
   ]
  },
  {
   "cell_type": "code",
   "execution_count": 19,
   "metadata": {},
   "outputs": [
    {
     "data": {
      "text/plain": [
       "(721921,)"
      ]
     },
     "execution_count": 19,
     "metadata": {},
     "output_type": "execute_result"
    }
   ],
   "source": [
    "log_returns.shape"
   ]
  },
  {
   "cell_type": "code",
   "execution_count": 20,
   "metadata": {},
   "outputs": [],
   "source": [
    "frequency_check = bitcoin.set_index(\"date\").Close.resample(sampling_rate).mean()"
   ]
  },
  {
   "cell_type": "code",
   "execution_count": 24,
   "metadata": {},
   "outputs": [
    {
     "data": {
      "image/png": "[encoded data removed]",
      "text/plain": [
       "<Figure size 432x288 with 1 Axes>"
      ]
     },
     "metadata": {
      "needs_background": "light"
     },
     "output_type": "display_data"
    }
   ],
   "source": [
    "frequency_check[frequency_check.isnull()].apply(lambda x: 1).resample(\"1D\").count().plot()\n",
    "plt.title(\"Missing values per day for \" + sampling_rate + \" intervals\")\n",
    "plt.show()"
   ]
  },
  {
   "cell_type": "code",
   "execution_count": 25,
   "metadata": {},
   "outputs": [
    {
     "data": {
      "text/plain": [
       "2880.0"
      ]
     },
     "execution_count": 25,
     "metadata": {},
     "output_type": "execute_result"
    }
   ],
   "source": [
    "600*24/5\n"
   ]
  },
  {
   "cell_type": "code",
   "execution_count": 32,
   "metadata": {},
   "outputs": [],
   "source": [
    "from statsmodels.tsa.stattools import acf"
   ]
  },
  {
   "cell_type": "code",
   "execution_count": 35,
   "metadata": {},
   "outputs": [],
   "source": [
    "acfunc = acf(np.abs(log_returns), nlags=2880)"
   ]
  },
  {
   "cell_type": "code",
   "execution_count": 50,
   "metadata": {},
   "outputs": [
    {
     "data": {
      "text/plain": [
       "[<matplotlib.lines.Line2D at 0x118f2f978>]"
      ]
     },
     "execution_count": 50,
     "metadata": {},
     "output_type": "execute_result"
    },
    {
     "data": {
      "image/png": "[encoded data removed]",
      "text/plain": [
       "<Figure size 1152x216 with 1 Axes>"
      ]
     },
     "metadata": {
      "needs_background": "light"
     },
     "output_type": "display_data"
    }
   ],
   "source": [
    "plt.plot(acfunc)"
   ]
  },
  {
   "cell_type": "code",
   "execution_count": 38,
   "metadata": {},
   "outputs": [],
   "source": [
    "from datetime import datetime"
   ]
  },
  {
   "cell_type": "code",
   "execution_count": 40,
   "metadata": {
    "scrolled": true
   },
   "outputs": [],
   "source": [
    "trunc_series = log_returns[log_returns.index > datetime(2017, 6, 1)]\n"
   ]
  },
  {
   "cell_type": "code",
   "execution_count": 41,
   "metadata": {},
   "outputs": [
    {
     "data": {
      "text/plain": [
       "(152063,)"
      ]
     },
     "execution_count": 41,
     "metadata": {},
     "output_type": "execute_result"
    }
   ],
   "source": [
    "trunc_series.shape"
   ]
  },
  {
   "cell_type": "code",
   "execution_count": 44,
   "metadata": {},
   "outputs": [],
   "source": [
    "trunc_acfunc = acf(np.abs(trunc_series), nlags=2880)"
   ]
  },
  {
   "cell_type": "code",
   "execution_count": 65,
   "metadata": {},
   "outputs": [
    {
     "data": {
      "image/png": "[encoded data removed]",
      "text/plain": [
       "<Figure size 1152x216 with 1 Axes>"
      ]
     },
     "metadata": {
      "needs_background": "light"
     },
     "output_type": "display_data"
    }
   ],
   "source": [
    "plt.plot(np.linspace(0,10,2881), pd.Series(trunc_acfunc).apply(lambda x: 0.2 if x > 0.2 else x).rolling(window=20).median())\n",
    "plt.xticks(np.arange(0, 11, step=1))\n",
    "plt.vlines(np.arange(0, 11, step=1), 0, 0.2)\n",
    "plt.show()"
   ]
  },
  {
   "cell_type": "code",
   "execution_count": null,
   "metadata": {},
   "outputs": [],
   "source": []
  }
 ],
 "metadata": {
  "kernelspec": {
   "display_name": "Python 3",
   "language": "python",
   "name": "python3"
  },
  "language_info": {
   "codemirror_mode": {
    "name": "ipython",
    "version": 3
   },
   "file_extension": ".py",
   "mimetype": "text/x-python",
   "name": "python",
   "nbconvert_exporter": "python",
   "pygments_lexer": "ipython3",
   "version": "3.7.0"
  }
 },
 "nbformat": 4,
 "nbformat_minor": 2
}
